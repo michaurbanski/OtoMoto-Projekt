import pandas as pd
import seaborn as sns
import numpy as np
import matplotlib.pyplot as plt
from sklearn.utils import shuffle
from sklearn.model_selection import train_test_split
from sklearn.preprocessing import OneHotEncoder, StandardScaler, MinMaxScaler
from sklearn.linear_model import LinearRegression
# moduł opcjonalny:
from sklearn.metrics import r2_score, mean_squared_error, accuracy_score, mean_absolute_error, mean_squared_error
import warnings
warnings.filterwarnings('ignore')
!pip install category_encoders
from category_encoders import TargetEncoder, OneHotEncoder
!pip install matplotlib --upgrade
import matplotlib
matplotlib.__version__
